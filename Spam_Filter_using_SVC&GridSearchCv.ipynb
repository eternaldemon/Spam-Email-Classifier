{
  "nbformat": 4,
  "nbformat_minor": 0,
  "metadata": {
    "colab": {
      "name": "Spam Filter using SVC.ipynb",
      "provenance": [],
      "collapsed_sections": [],
      "authorship_tag": "ABX9TyM7cCsnSoem9X7lap+hb+lY",
      "include_colab_link": true
    },
    "kernelspec": {
      "name": "python3",
      "display_name": "Python 3"
    }
  },
  "cells": [
    {
      "cell_type": "markdown",
      "metadata": {
        "id": "view-in-github",
        "colab_type": "text"
      },
      "source": [
        "<a href=\"https://colab.research.google.com/github/eternaldemon/Spam-Email-Classifier/blob/master/Spam_Filter_using_SVC%26GridSearchCv.ipynb\" target=\"_parent\"><img src=\"https://colab.research.google.com/assets/colab-badge.svg\" alt=\"Open In Colab\"/></a>"
      ]
    },
    {
      "cell_type": "code",
      "metadata": {
        "id": "Jj1CoJ_zfGum",
        "colab_type": "code",
        "colab": {}
      },
      "source": [
        "import numpy as np\n",
        "import pandas as pd\n",
        "import matplotlib.pyplot as plt\n",
        "import sklearn\n",
        "from sklearn.model_selection import train_test_split\n",
        "from sklearn.feature_extraction.text import CountVectorizer\n",
        "from sklearn.naive_bayes import MultinomialNB,GaussianNB\n",
        "from sklearn import svm\n",
        "from sklearn.model_selection import GridSearchCV"
      ],
      "execution_count": 2,
      "outputs": []
    },
    {
      "cell_type": "code",
      "metadata": {
        "id": "iTSeLj0KfhgW",
        "colab_type": "code",
        "colab": {}
      },
      "source": [
        "#Load Dataset\n",
        "from google.colab import files\n",
        "files.upload()"
      ],
      "execution_count": null,
      "outputs": []
    },
    {
      "cell_type": "code",
      "metadata": {
        "id": "VZNTp9ybftvF",
        "colab_type": "code",
        "colab": {
          "base_uri": "https://localhost:8080/",
          "height": 359
        },
        "outputId": "d20c2977-3f39-489f-e264-7a326ede2ea9"
      },
      "source": [
        "data = pd.read_csv('emails.csv')\n",
        "data.head(10)"
      ],
      "execution_count": 4,
      "outputs": [
        {
          "output_type": "execute_result",
          "data": {
            "text/html": [
              "<div>\n",
              "<style scoped>\n",
              "    .dataframe tbody tr th:only-of-type {\n",
              "        vertical-align: middle;\n",
              "    }\n",
              "\n",
              "    .dataframe tbody tr th {\n",
              "        vertical-align: top;\n",
              "    }\n",
              "\n",
              "    .dataframe thead th {\n",
              "        text-align: right;\n",
              "    }\n",
              "</style>\n",
              "<table border=\"1\" class=\"dataframe\">\n",
              "  <thead>\n",
              "    <tr style=\"text-align: right;\">\n",
              "      <th></th>\n",
              "      <th>text</th>\n",
              "      <th>spam</th>\n",
              "    </tr>\n",
              "  </thead>\n",
              "  <tbody>\n",
              "    <tr>\n",
              "      <th>0</th>\n",
              "      <td>Subject: naturally irresistible your corporate...</td>\n",
              "      <td>1</td>\n",
              "    </tr>\n",
              "    <tr>\n",
              "      <th>1</th>\n",
              "      <td>Subject: the stock trading gunslinger  fanny i...</td>\n",
              "      <td>1</td>\n",
              "    </tr>\n",
              "    <tr>\n",
              "      <th>2</th>\n",
              "      <td>Subject: unbelievable new homes made easy  im ...</td>\n",
              "      <td>1</td>\n",
              "    </tr>\n",
              "    <tr>\n",
              "      <th>3</th>\n",
              "      <td>Subject: 4 color printing special  request add...</td>\n",
              "      <td>1</td>\n",
              "    </tr>\n",
              "    <tr>\n",
              "      <th>4</th>\n",
              "      <td>Subject: do not have money , get software cds ...</td>\n",
              "      <td>1</td>\n",
              "    </tr>\n",
              "    <tr>\n",
              "      <th>5</th>\n",
              "      <td>Subject: great nnews  hello , welcome to medzo...</td>\n",
              "      <td>1</td>\n",
              "    </tr>\n",
              "    <tr>\n",
              "      <th>6</th>\n",
              "      <td>Subject: here ' s a hot play in motion  homela...</td>\n",
              "      <td>1</td>\n",
              "    </tr>\n",
              "    <tr>\n",
              "      <th>7</th>\n",
              "      <td>Subject: save your money buy getting this thin...</td>\n",
              "      <td>1</td>\n",
              "    </tr>\n",
              "    <tr>\n",
              "      <th>8</th>\n",
              "      <td>Subject: undeliverable : home based business f...</td>\n",
              "      <td>1</td>\n",
              "    </tr>\n",
              "    <tr>\n",
              "      <th>9</th>\n",
              "      <td>Subject: save your money buy getting this thin...</td>\n",
              "      <td>1</td>\n",
              "    </tr>\n",
              "  </tbody>\n",
              "</table>\n",
              "</div>"
            ],
            "text/plain": [
              "                                                text  spam\n",
              "0  Subject: naturally irresistible your corporate...     1\n",
              "1  Subject: the stock trading gunslinger  fanny i...     1\n",
              "2  Subject: unbelievable new homes made easy  im ...     1\n",
              "3  Subject: 4 color printing special  request add...     1\n",
              "4  Subject: do not have money , get software cds ...     1\n",
              "5  Subject: great nnews  hello , welcome to medzo...     1\n",
              "6  Subject: here ' s a hot play in motion  homela...     1\n",
              "7  Subject: save your money buy getting this thin...     1\n",
              "8  Subject: undeliverable : home based business f...     1\n",
              "9  Subject: save your money buy getting this thin...     1"
            ]
          },
          "metadata": {
            "tags": []
          },
          "execution_count": 4
        }
      ]
    },
    {
      "cell_type": "code",
      "metadata": {
        "id": "m4mISi5vfxCf",
        "colab_type": "code",
        "colab": {
          "base_uri": "https://localhost:8080/",
          "height": 51
        },
        "outputId": "7663840b-b098-4b34-c9f4-ffee94896b4b"
      },
      "source": [
        "x = data['text']\n",
        "y = data['spam']\n",
        "print(x.shape)\n",
        "print(y.shape)"
      ],
      "execution_count": 33,
      "outputs": [
        {
          "output_type": "stream",
          "text": [
            "(5728,)\n",
            "(5728,)\n"
          ],
          "name": "stdout"
        }
      ]
    },
    {
      "cell_type": "code",
      "metadata": {
        "id": "QQeJL0wDggca",
        "colab_type": "code",
        "colab": {
          "base_uri": "https://localhost:8080/",
          "height": 35
        },
        "outputId": "36f67d50-89b8-4465-8983-ab30ec48dc97"
      },
      "source": [
        "'''\n",
        "x,y= np.array(x) , np.array(y)\n",
        "x,y = np.reshape(x,(-1,1)), np.reshape(y,(-1,1))\n",
        "print(x.shape)\n",
        "print(y.shape)\n",
        "\n",
        "'''"
      ],
      "execution_count": 34,
      "outputs": [
        {
          "output_type": "execute_result",
          "data": {
            "application/vnd.google.colaboratory.intrinsic": {
              "type": "string"
            },
            "text/plain": [
              "'\\nx,y= np.array(x) , np.array(y)\\nx,y = np.reshape(x,(-1,1)), np.reshape(y,(-1,1))\\nprint(x.shape)\\nprint(y.shape)\\n\\n'"
            ]
          },
          "metadata": {
            "tags": []
          },
          "execution_count": 34
        }
      ]
    },
    {
      "cell_type": "code",
      "metadata": {
        "id": "SHjVtSRRguwv",
        "colab_type": "code",
        "colab": {
          "base_uri": "https://localhost:8080/",
          "height": 35
        },
        "outputId": "977b7c22-2b67-480c-c374-2842d3b9f2dc"
      },
      "source": [
        "'''\n",
        "x,y = pd.DataFrame(x),pd.DataFrame(y)\n",
        "\n",
        "'''"
      ],
      "execution_count": 35,
      "outputs": [
        {
          "output_type": "execute_result",
          "data": {
            "application/vnd.google.colaboratory.intrinsic": {
              "type": "string"
            },
            "text/plain": [
              "'\\nx,y = pd.DataFrame(x),pd.DataFrame(y)\\n\\n'"
            ]
          },
          "metadata": {
            "tags": []
          },
          "execution_count": 35
        }
      ]
    },
    {
      "cell_type": "code",
      "metadata": {
        "id": "c3HCPZ93f7jx",
        "colab_type": "code",
        "colab": {}
      },
      "source": [
        "# Splitting into Training and Test sets\n",
        "x_train,x_test,y_train,y_test = train_test_split(x,y,test_size=0.2)"
      ],
      "execution_count": 36,
      "outputs": []
    },
    {
      "cell_type": "code",
      "metadata": {
        "id": "5gkFWxb3hF6T",
        "colab_type": "code",
        "colab": {
          "base_uri": "https://localhost:8080/",
          "height": 34
        },
        "outputId": "da8fcb61-85f8-483e-c445-7b2300cc63b9"
      },
      "source": [
        "x_train.shape"
      ],
      "execution_count": 37,
      "outputs": [
        {
          "output_type": "execute_result",
          "data": {
            "text/plain": [
              "(4582,)"
            ]
          },
          "metadata": {
            "tags": []
          },
          "execution_count": 37
        }
      ]
    },
    {
      "cell_type": "code",
      "metadata": {
        "id": "ugyH6h6AgFiO",
        "colab_type": "code",
        "colab": {}
      },
      "source": [
        "# Initialising object for CountVectorizer\n",
        "cv = CountVectorizer(lowercase=False)"
      ],
      "execution_count": 38,
      "outputs": []
    },
    {
      "cell_type": "code",
      "metadata": {
        "id": "Ig9tz42yhLAz",
        "colab_type": "code",
        "colab": {}
      },
      "source": [
        "#Transforming Training Data\n",
        "training_data = cv.fit_transform(x_train)"
      ],
      "execution_count": 39,
      "outputs": []
    },
    {
      "cell_type": "code",
      "metadata": {
        "id": "G5_oIt4VjyrD",
        "colab_type": "code",
        "colab": {}
      },
      "source": [
        "# Transforming Testing Data\n",
        "testing_data = cv.transform(x_test)"
      ],
      "execution_count": 40,
      "outputs": []
    },
    {
      "cell_type": "code",
      "metadata": {
        "id": "igZyx2EzgR4L",
        "colab_type": "code",
        "colab": {
          "base_uri": "https://localhost:8080/",
          "height": 85
        },
        "outputId": "1b8fed03-be21-4dd9-da4c-33a32a21b0c0"
      },
      "source": [
        "model = svm.SVC()\n",
        "model.fit(training_data,y_train)"
      ],
      "execution_count": 41,
      "outputs": [
        {
          "output_type": "execute_result",
          "data": {
            "text/plain": [
              "SVC(C=1.0, break_ties=False, cache_size=200, class_weight=None, coef0=0.0,\n",
              "    decision_function_shape='ovr', degree=3, gamma='scale', kernel='rbf',\n",
              "    max_iter=-1, probability=False, random_state=None, shrinking=True,\n",
              "    tol=0.001, verbose=False)"
            ]
          },
          "metadata": {
            "tags": []
          },
          "execution_count": 41
        }
      ]
    },
    {
      "cell_type": "code",
      "metadata": {
        "id": "4X_Ir9QEjPOI",
        "colab_type": "code",
        "colab": {
          "base_uri": "https://localhost:8080/",
          "height": 34
        },
        "outputId": "d57305eb-0e09-42dc-d845-b6c4eba91bd1"
      },
      "source": [
        "#Basic SVM model Accuracy on Test Data\n",
        "model.score(testing_data,y_test)"
      ],
      "execution_count": 42,
      "outputs": [
        {
          "output_type": "execute_result",
          "data": {
            "text/plain": [
              "0.9528795811518325"
            ]
          },
          "metadata": {
            "tags": []
          },
          "execution_count": 42
        }
      ]
    },
    {
      "cell_type": "code",
      "metadata": {
        "id": "JUjPcXnohtDr",
        "colab_type": "code",
        "colab": {
          "base_uri": "https://localhost:8080/",
          "height": 1000
        },
        "outputId": "119f21b7-0cab-4555-f398-1d9066493491"
      },
      "source": [
        "parameters ={'kernel':['linear','rbf'],'gamma':[1e-2,1e-3,1e-4,1e-5],'C':[1,10,100,1000,10000,100000]}\n",
        "\n",
        "gridmodel = GridSearchCV(svm.SVC(),parameters,verbose=10)\n",
        "gridmodel.fit(training_data,y_train)"
      ],
      "execution_count": 43,
      "outputs": [
        {
          "output_type": "stream",
          "text": [
            "Fitting 5 folds for each of 48 candidates, totalling 240 fits\n",
            "[CV] C=1, gamma=0.01, kernel=linear ..................................\n"
          ],
          "name": "stdout"
        },
        {
          "output_type": "stream",
          "text": [
            "[Parallel(n_jobs=1)]: Using backend SequentialBackend with 1 concurrent workers.\n"
          ],
          "name": "stderr"
        },
        {
          "output_type": "stream",
          "text": [
            "[CV] ...... C=1, gamma=0.01, kernel=linear, score=0.980, total=   2.6s\n",
            "[CV] C=1, gamma=0.01, kernel=linear ..................................\n"
          ],
          "name": "stdout"
        },
        {
          "output_type": "stream",
          "text": [
            "[Parallel(n_jobs=1)]: Done   1 out of   1 | elapsed:    2.6s remaining:    0.0s\n"
          ],
          "name": "stderr"
        },
        {
          "output_type": "stream",
          "text": [
            "[CV] ...... C=1, gamma=0.01, kernel=linear, score=0.978, total=   2.8s\n",
            "[CV] C=1, gamma=0.01, kernel=linear ..................................\n"
          ],
          "name": "stdout"
        },
        {
          "output_type": "stream",
          "text": [
            "[Parallel(n_jobs=1)]: Done   2 out of   2 | elapsed:    5.3s remaining:    0.0s\n"
          ],
          "name": "stderr"
        },
        {
          "output_type": "stream",
          "text": [
            "[CV] ...... C=1, gamma=0.01, kernel=linear, score=0.983, total=   2.7s\n",
            "[CV] C=1, gamma=0.01, kernel=linear ..................................\n"
          ],
          "name": "stdout"
        },
        {
          "output_type": "stream",
          "text": [
            "[Parallel(n_jobs=1)]: Done   3 out of   3 | elapsed:    8.0s remaining:    0.0s\n"
          ],
          "name": "stderr"
        },
        {
          "output_type": "stream",
          "text": [
            "[CV] ...... C=1, gamma=0.01, kernel=linear, score=0.988, total=   2.8s\n",
            "[CV] C=1, gamma=0.01, kernel=linear ..................................\n"
          ],
          "name": "stdout"
        },
        {
          "output_type": "stream",
          "text": [
            "[Parallel(n_jobs=1)]: Done   4 out of   4 | elapsed:   10.8s remaining:    0.0s\n"
          ],
          "name": "stderr"
        },
        {
          "output_type": "stream",
          "text": [
            "[CV] ...... C=1, gamma=0.01, kernel=linear, score=0.985, total=   2.9s\n",
            "[CV] C=1, gamma=0.01, kernel=rbf .....................................\n"
          ],
          "name": "stdout"
        },
        {
          "output_type": "stream",
          "text": [
            "[Parallel(n_jobs=1)]: Done   5 out of   5 | elapsed:   13.7s remaining:    0.0s\n"
          ],
          "name": "stderr"
        },
        {
          "output_type": "stream",
          "text": [
            "[CV] ......... C=1, gamma=0.01, kernel=rbf, score=0.917, total=  21.6s\n",
            "[CV] C=1, gamma=0.01, kernel=rbf .....................................\n"
          ],
          "name": "stdout"
        },
        {
          "output_type": "stream",
          "text": [
            "[Parallel(n_jobs=1)]: Done   6 out of   6 | elapsed:   35.3s remaining:    0.0s\n"
          ],
          "name": "stderr"
        },
        {
          "output_type": "stream",
          "text": [
            "[CV] ......... C=1, gamma=0.01, kernel=rbf, score=0.926, total=  20.7s\n",
            "[CV] C=1, gamma=0.01, kernel=rbf .....................................\n"
          ],
          "name": "stdout"
        },
        {
          "output_type": "stream",
          "text": [
            "[Parallel(n_jobs=1)]: Done   7 out of   7 | elapsed:   56.0s remaining:    0.0s\n"
          ],
          "name": "stderr"
        },
        {
          "output_type": "stream",
          "text": [
            "[CV] ......... C=1, gamma=0.01, kernel=rbf, score=0.922, total=  20.1s\n",
            "[CV] C=1, gamma=0.01, kernel=rbf .....................................\n"
          ],
          "name": "stdout"
        },
        {
          "output_type": "stream",
          "text": [
            "[Parallel(n_jobs=1)]: Done   8 out of   8 | elapsed:  1.3min remaining:    0.0s\n"
          ],
          "name": "stderr"
        },
        {
          "output_type": "stream",
          "text": [
            "[CV] ......... C=1, gamma=0.01, kernel=rbf, score=0.924, total=  20.1s\n",
            "[CV] C=1, gamma=0.01, kernel=rbf .....................................\n"
          ],
          "name": "stdout"
        },
        {
          "output_type": "stream",
          "text": [
            "[Parallel(n_jobs=1)]: Done   9 out of   9 | elapsed:  1.6min remaining:    0.0s\n"
          ],
          "name": "stderr"
        },
        {
          "output_type": "stream",
          "text": [
            "[CV] ......... C=1, gamma=0.01, kernel=rbf, score=0.932, total=  20.1s\n",
            "[CV] C=1, gamma=0.001, kernel=linear .................................\n",
            "[CV] ..... C=1, gamma=0.001, kernel=linear, score=0.980, total=   2.6s\n",
            "[CV] C=1, gamma=0.001, kernel=linear .................................\n",
            "[CV] ..... C=1, gamma=0.001, kernel=linear, score=0.978, total=   2.7s\n",
            "[CV] C=1, gamma=0.001, kernel=linear .................................\n",
            "[CV] ..... C=1, gamma=0.001, kernel=linear, score=0.983, total=   2.7s\n",
            "[CV] C=1, gamma=0.001, kernel=linear .................................\n",
            "[CV] ..... C=1, gamma=0.001, kernel=linear, score=0.988, total=   2.8s\n",
            "[CV] C=1, gamma=0.001, kernel=linear .................................\n",
            "[CV] ..... C=1, gamma=0.001, kernel=linear, score=0.985, total=   2.9s\n",
            "[CV] C=1, gamma=0.001, kernel=rbf ....................................\n",
            "[CV] ........ C=1, gamma=0.001, kernel=rbf, score=0.945, total=   8.2s\n",
            "[CV] C=1, gamma=0.001, kernel=rbf ....................................\n",
            "[CV] ........ C=1, gamma=0.001, kernel=rbf, score=0.942, total=   8.5s\n",
            "[CV] C=1, gamma=0.001, kernel=rbf ....................................\n",
            "[CV] ........ C=1, gamma=0.001, kernel=rbf, score=0.949, total=   8.4s\n",
            "[CV] C=1, gamma=0.001, kernel=rbf ....................................\n",
            "[CV] ........ C=1, gamma=0.001, kernel=rbf, score=0.966, total=   8.3s\n",
            "[CV] C=1, gamma=0.001, kernel=rbf ....................................\n",
            "[CV] ........ C=1, gamma=0.001, kernel=rbf, score=0.963, total=   8.6s\n",
            "[CV] C=1, gamma=0.0001, kernel=linear ................................\n",
            "[CV] .... C=1, gamma=0.0001, kernel=linear, score=0.980, total=   2.6s\n",
            "[CV] C=1, gamma=0.0001, kernel=linear ................................\n",
            "[CV] .... C=1, gamma=0.0001, kernel=linear, score=0.978, total=   2.8s\n",
            "[CV] C=1, gamma=0.0001, kernel=linear ................................\n",
            "[CV] .... C=1, gamma=0.0001, kernel=linear, score=0.983, total=   2.7s\n",
            "[CV] C=1, gamma=0.0001, kernel=linear ................................\n",
            "[CV] .... C=1, gamma=0.0001, kernel=linear, score=0.988, total=   2.8s\n",
            "[CV] C=1, gamma=0.0001, kernel=linear ................................\n",
            "[CV] .... C=1, gamma=0.0001, kernel=linear, score=0.985, total=   2.9s\n",
            "[CV] C=1, gamma=0.0001, kernel=rbf ...................................\n",
            "[CV] ....... C=1, gamma=0.0001, kernel=rbf, score=0.871, total=   9.3s\n",
            "[CV] C=1, gamma=0.0001, kernel=rbf ...................................\n",
            "[CV] ....... C=1, gamma=0.0001, kernel=rbf, score=0.852, total=   9.4s\n",
            "[CV] C=1, gamma=0.0001, kernel=rbf ...................................\n",
            "[CV] ....... C=1, gamma=0.0001, kernel=rbf, score=0.855, total=   9.3s\n",
            "[CV] C=1, gamma=0.0001, kernel=rbf ...................................\n",
            "[CV] ....... C=1, gamma=0.0001, kernel=rbf, score=0.872, total=   9.5s\n",
            "[CV] C=1, gamma=0.0001, kernel=rbf ...................................\n",
            "[CV] ....... C=1, gamma=0.0001, kernel=rbf, score=0.880, total=   9.6s\n",
            "[CV] C=1, gamma=1e-05, kernel=linear .................................\n",
            "[CV] ..... C=1, gamma=1e-05, kernel=linear, score=0.980, total=   2.6s\n",
            "[CV] C=1, gamma=1e-05, kernel=linear .................................\n",
            "[CV] ..... C=1, gamma=1e-05, kernel=linear, score=0.978, total=   2.8s\n",
            "[CV] C=1, gamma=1e-05, kernel=linear .................................\n",
            "[CV] ..... C=1, gamma=1e-05, kernel=linear, score=0.983, total=   2.7s\n",
            "[CV] C=1, gamma=1e-05, kernel=linear .................................\n",
            "[CV] ..... C=1, gamma=1e-05, kernel=linear, score=0.988, total=   2.8s\n",
            "[CV] C=1, gamma=1e-05, kernel=linear .................................\n",
            "[CV] ..... C=1, gamma=1e-05, kernel=linear, score=0.985, total=   2.9s\n",
            "[CV] C=1, gamma=1e-05, kernel=rbf ....................................\n",
            "[CV] ........ C=1, gamma=1e-05, kernel=rbf, score=0.764, total=  10.6s\n",
            "[CV] C=1, gamma=1e-05, kernel=rbf ....................................\n",
            "[CV] ........ C=1, gamma=1e-05, kernel=rbf, score=0.763, total=  10.8s\n",
            "[CV] C=1, gamma=1e-05, kernel=rbf ....................................\n",
            "[CV] ........ C=1, gamma=1e-05, kernel=rbf, score=0.767, total=  10.7s\n",
            "[CV] C=1, gamma=1e-05, kernel=rbf ....................................\n",
            "[CV] ........ C=1, gamma=1e-05, kernel=rbf, score=0.764, total=  10.7s\n",
            "[CV] C=1, gamma=1e-05, kernel=rbf ....................................\n",
            "[CV] ........ C=1, gamma=1e-05, kernel=rbf, score=0.766, total=  10.7s\n",
            "[CV] C=10, gamma=0.01, kernel=linear .................................\n",
            "[CV] ..... C=10, gamma=0.01, kernel=linear, score=0.980, total=   2.6s\n",
            "[CV] C=10, gamma=0.01, kernel=linear .................................\n",
            "[CV] ..... C=10, gamma=0.01, kernel=linear, score=0.978, total=   2.8s\n",
            "[CV] C=10, gamma=0.01, kernel=linear .................................\n",
            "[CV] ..... C=10, gamma=0.01, kernel=linear, score=0.983, total=   2.7s\n",
            "[CV] C=10, gamma=0.01, kernel=linear .................................\n",
            "[CV] ..... C=10, gamma=0.01, kernel=linear, score=0.988, total=   2.8s\n",
            "[CV] C=10, gamma=0.01, kernel=linear .................................\n",
            "[CV] ..... C=10, gamma=0.01, kernel=linear, score=0.985, total=   2.9s\n",
            "[CV] C=10, gamma=0.01, kernel=rbf ....................................\n",
            "[CV] ........ C=10, gamma=0.01, kernel=rbf, score=0.923, total=  21.1s\n",
            "[CV] C=10, gamma=0.01, kernel=rbf ....................................\n",
            "[CV] ........ C=10, gamma=0.01, kernel=rbf, score=0.936, total=  23.4s\n",
            "[CV] C=10, gamma=0.01, kernel=rbf ....................................\n",
            "[CV] ........ C=10, gamma=0.01, kernel=rbf, score=0.930, total=  21.5s\n",
            "[CV] C=10, gamma=0.01, kernel=rbf ....................................\n",
            "[CV] ........ C=10, gamma=0.01, kernel=rbf, score=0.936, total=  21.4s\n",
            "[CV] C=10, gamma=0.01, kernel=rbf ....................................\n",
            "[CV] ........ C=10, gamma=0.01, kernel=rbf, score=0.940, total=  21.3s\n",
            "[CV] C=10, gamma=0.001, kernel=linear ................................\n",
            "[CV] .... C=10, gamma=0.001, kernel=linear, score=0.980, total=   2.6s\n",
            "[CV] C=10, gamma=0.001, kernel=linear ................................\n",
            "[CV] .... C=10, gamma=0.001, kernel=linear, score=0.978, total=   2.8s\n",
            "[CV] C=10, gamma=0.001, kernel=linear ................................\n",
            "[CV] .... C=10, gamma=0.001, kernel=linear, score=0.983, total=   2.7s\n",
            "[CV] C=10, gamma=0.001, kernel=linear ................................\n",
            "[CV] .... C=10, gamma=0.001, kernel=linear, score=0.988, total=   2.9s\n",
            "[CV] C=10, gamma=0.001, kernel=linear ................................\n",
            "[CV] .... C=10, gamma=0.001, kernel=linear, score=0.985, total=   2.9s\n",
            "[CV] C=10, gamma=0.001, kernel=rbf ...................................\n",
            "[CV] ....... C=10, gamma=0.001, kernel=rbf, score=0.972, total=   6.1s\n",
            "[CV] C=10, gamma=0.001, kernel=rbf ...................................\n",
            "[CV] ....... C=10, gamma=0.001, kernel=rbf, score=0.979, total=   6.5s\n",
            "[CV] C=10, gamma=0.001, kernel=rbf ...................................\n",
            "[CV] ....... C=10, gamma=0.001, kernel=rbf, score=0.983, total=   6.4s\n",
            "[CV] C=10, gamma=0.001, kernel=rbf ...................................\n",
            "[CV] ....... C=10, gamma=0.001, kernel=rbf, score=0.988, total=   6.3s\n",
            "[CV] C=10, gamma=0.001, kernel=rbf ...................................\n",
            "[CV] ....... C=10, gamma=0.001, kernel=rbf, score=0.984, total=   6.5s\n",
            "[CV] C=10, gamma=0.0001, kernel=linear ...............................\n",
            "[CV] ... C=10, gamma=0.0001, kernel=linear, score=0.980, total=   2.6s\n",
            "[CV] C=10, gamma=0.0001, kernel=linear ...............................\n",
            "[CV] ... C=10, gamma=0.0001, kernel=linear, score=0.978, total=   2.8s\n",
            "[CV] C=10, gamma=0.0001, kernel=linear ...............................\n",
            "[CV] ... C=10, gamma=0.0001, kernel=linear, score=0.983, total=   2.7s\n",
            "[CV] C=10, gamma=0.0001, kernel=linear ...............................\n",
            "[CV] ... C=10, gamma=0.0001, kernel=linear, score=0.988, total=   2.9s\n",
            "[CV] C=10, gamma=0.0001, kernel=linear ...............................\n",
            "[CV] ... C=10, gamma=0.0001, kernel=linear, score=0.985, total=   2.9s\n",
            "[CV] C=10, gamma=0.0001, kernel=rbf ..................................\n",
            "[CV] ...... C=10, gamma=0.0001, kernel=rbf, score=0.959, total=   5.3s\n",
            "[CV] C=10, gamma=0.0001, kernel=rbf ..................................\n",
            "[CV] ...... C=10, gamma=0.0001, kernel=rbf, score=0.949, total=   5.4s\n",
            "[CV] C=10, gamma=0.0001, kernel=rbf ..................................\n",
            "[CV] ...... C=10, gamma=0.0001, kernel=rbf, score=0.963, total=   5.3s\n",
            "[CV] C=10, gamma=0.0001, kernel=rbf ..................................\n",
            "[CV] ...... C=10, gamma=0.0001, kernel=rbf, score=0.972, total=   5.4s\n",
            "[CV] C=10, gamma=0.0001, kernel=rbf ..................................\n",
            "[CV] ...... C=10, gamma=0.0001, kernel=rbf, score=0.969, total=   5.4s\n",
            "[CV] C=10, gamma=1e-05, kernel=linear ................................\n",
            "[CV] .... C=10, gamma=1e-05, kernel=linear, score=0.980, total=   2.6s\n",
            "[CV] C=10, gamma=1e-05, kernel=linear ................................\n",
            "[CV] .... C=10, gamma=1e-05, kernel=linear, score=0.978, total=   2.8s\n",
            "[CV] C=10, gamma=1e-05, kernel=linear ................................\n",
            "[CV] .... C=10, gamma=1e-05, kernel=linear, score=0.983, total=   2.7s\n",
            "[CV] C=10, gamma=1e-05, kernel=linear ................................\n",
            "[CV] .... C=10, gamma=1e-05, kernel=linear, score=0.988, total=   2.9s\n",
            "[CV] C=10, gamma=1e-05, kernel=linear ................................\n",
            "[CV] .... C=10, gamma=1e-05, kernel=linear, score=0.985, total=   2.9s\n",
            "[CV] C=10, gamma=1e-05, kernel=rbf ...................................\n",
            "[CV] ....... C=10, gamma=1e-05, kernel=rbf, score=0.874, total=   8.9s\n",
            "[CV] C=10, gamma=1e-05, kernel=rbf ...................................\n",
            "[CV] ....... C=10, gamma=1e-05, kernel=rbf, score=0.852, total=   8.8s\n",
            "[CV] C=10, gamma=1e-05, kernel=rbf ...................................\n",
            "[CV] ....... C=10, gamma=1e-05, kernel=rbf, score=0.854, total=   8.8s\n",
            "[CV] C=10, gamma=1e-05, kernel=rbf ...................................\n",
            "[CV] ....... C=10, gamma=1e-05, kernel=rbf, score=0.868, total=   8.9s\n",
            "[CV] C=10, gamma=1e-05, kernel=rbf ...................................\n",
            "[CV] ....... C=10, gamma=1e-05, kernel=rbf, score=0.872, total=   9.0s\n",
            "[CV] C=100, gamma=0.01, kernel=linear ................................\n",
            "[CV] .... C=100, gamma=0.01, kernel=linear, score=0.980, total=   2.6s\n",
            "[CV] C=100, gamma=0.01, kernel=linear ................................\n",
            "[CV] .... C=100, gamma=0.01, kernel=linear, score=0.978, total=   2.8s\n",
            "[CV] C=100, gamma=0.01, kernel=linear ................................\n",
            "[CV] .... C=100, gamma=0.01, kernel=linear, score=0.983, total=   2.7s\n",
            "[CV] C=100, gamma=0.01, kernel=linear ................................\n",
            "[CV] .... C=100, gamma=0.01, kernel=linear, score=0.988, total=   2.9s\n",
            "[CV] C=100, gamma=0.01, kernel=linear ................................\n",
            "[CV] .... C=100, gamma=0.01, kernel=linear, score=0.985, total=   2.9s\n",
            "[CV] C=100, gamma=0.01, kernel=rbf ...................................\n",
            "[CV] ....... C=100, gamma=0.01, kernel=rbf, score=0.923, total=  21.2s\n",
            "[CV] C=100, gamma=0.01, kernel=rbf ...................................\n",
            "[CV] ....... C=100, gamma=0.01, kernel=rbf, score=0.936, total=  21.6s\n",
            "[CV] C=100, gamma=0.01, kernel=rbf ...................................\n",
            "[CV] ....... C=100, gamma=0.01, kernel=rbf, score=0.930, total=  21.6s\n",
            "[CV] C=100, gamma=0.01, kernel=rbf ...................................\n",
            "[CV] ....... C=100, gamma=0.01, kernel=rbf, score=0.934, total=  24.5s\n",
            "[CV] C=100, gamma=0.01, kernel=rbf ...................................\n",
            "[CV] ....... C=100, gamma=0.01, kernel=rbf, score=0.940, total=  21.9s\n",
            "[CV] C=100, gamma=0.001, kernel=linear ...............................\n",
            "[CV] ... C=100, gamma=0.001, kernel=linear, score=0.980, total=   2.6s\n",
            "[CV] C=100, gamma=0.001, kernel=linear ...............................\n",
            "[CV] ... C=100, gamma=0.001, kernel=linear, score=0.978, total=   2.8s\n",
            "[CV] C=100, gamma=0.001, kernel=linear ...............................\n",
            "[CV] ... C=100, gamma=0.001, kernel=linear, score=0.983, total=   2.7s\n",
            "[CV] C=100, gamma=0.001, kernel=linear ...............................\n",
            "[CV] ... C=100, gamma=0.001, kernel=linear, score=0.988, total=   2.9s\n",
            "[CV] C=100, gamma=0.001, kernel=linear ...............................\n",
            "[CV] ... C=100, gamma=0.001, kernel=linear, score=0.985, total=   2.9s\n",
            "[CV] C=100, gamma=0.001, kernel=rbf ..................................\n",
            "[CV] ...... C=100, gamma=0.001, kernel=rbf, score=0.974, total=   5.7s\n",
            "[CV] C=100, gamma=0.001, kernel=rbf ..................................\n",
            "[CV] ...... C=100, gamma=0.001, kernel=rbf, score=0.977, total=   6.1s\n",
            "[CV] C=100, gamma=0.001, kernel=rbf ..................................\n",
            "[CV] ...... C=100, gamma=0.001, kernel=rbf, score=0.978, total=   5.9s\n",
            "[CV] C=100, gamma=0.001, kernel=rbf ..................................\n",
            "[CV] ...... C=100, gamma=0.001, kernel=rbf, score=0.985, total=   5.8s\n",
            "[CV] C=100, gamma=0.001, kernel=rbf ..................................\n",
            "[CV] ...... C=100, gamma=0.001, kernel=rbf, score=0.984, total=   6.0s\n",
            "[CV] C=100, gamma=0.0001, kernel=linear ..............................\n",
            "[CV] .. C=100, gamma=0.0001, kernel=linear, score=0.980, total=   2.6s\n",
            "[CV] C=100, gamma=0.0001, kernel=linear ..............................\n",
            "[CV] .. C=100, gamma=0.0001, kernel=linear, score=0.978, total=   2.8s\n",
            "[CV] C=100, gamma=0.0001, kernel=linear ..............................\n",
            "[CV] .. C=100, gamma=0.0001, kernel=linear, score=0.983, total=   2.7s\n",
            "[CV] C=100, gamma=0.0001, kernel=linear ..............................\n",
            "[CV] .. C=100, gamma=0.0001, kernel=linear, score=0.988, total=   2.9s\n",
            "[CV] C=100, gamma=0.0001, kernel=linear ..............................\n",
            "[CV] .. C=100, gamma=0.0001, kernel=linear, score=0.985, total=   2.9s\n",
            "[CV] C=100, gamma=0.0001, kernel=rbf .................................\n",
            "[CV] ..... C=100, gamma=0.0001, kernel=rbf, score=0.985, total=   3.3s\n",
            "[CV] C=100, gamma=0.0001, kernel=rbf .................................\n",
            "[CV] ..... C=100, gamma=0.0001, kernel=rbf, score=0.981, total=   3.3s\n",
            "[CV] C=100, gamma=0.0001, kernel=rbf .................................\n",
            "[CV] ..... C=100, gamma=0.0001, kernel=rbf, score=0.989, total=   3.3s\n",
            "[CV] C=100, gamma=0.0001, kernel=rbf .................................\n",
            "[CV] ..... C=100, gamma=0.0001, kernel=rbf, score=0.989, total=   3.4s\n",
            "[CV] C=100, gamma=0.0001, kernel=rbf .................................\n",
            "[CV] ..... C=100, gamma=0.0001, kernel=rbf, score=0.986, total=   3.4s\n",
            "[CV] C=100, gamma=1e-05, kernel=linear ...............................\n",
            "[CV] ... C=100, gamma=1e-05, kernel=linear, score=0.980, total=   2.6s\n",
            "[CV] C=100, gamma=1e-05, kernel=linear ...............................\n",
            "[CV] ... C=100, gamma=1e-05, kernel=linear, score=0.978, total=   2.8s\n",
            "[CV] C=100, gamma=1e-05, kernel=linear ...............................\n",
            "[CV] ... C=100, gamma=1e-05, kernel=linear, score=0.983, total=   2.7s\n",
            "[CV] C=100, gamma=1e-05, kernel=linear ...............................\n",
            "[CV] ... C=100, gamma=1e-05, kernel=linear, score=0.988, total=   2.8s\n",
            "[CV] C=100, gamma=1e-05, kernel=linear ...............................\n",
            "[CV] ... C=100, gamma=1e-05, kernel=linear, score=0.985, total=   3.0s\n",
            "[CV] C=100, gamma=1e-05, kernel=rbf ..................................\n",
            "[CV] ...... C=100, gamma=1e-05, kernel=rbf, score=0.955, total=   4.8s\n",
            "[CV] C=100, gamma=1e-05, kernel=rbf ..................................\n",
            "[CV] ...... C=100, gamma=1e-05, kernel=rbf, score=0.950, total=   4.9s\n",
            "[CV] C=100, gamma=1e-05, kernel=rbf ..................................\n",
            "[CV] ...... C=100, gamma=1e-05, kernel=rbf, score=0.965, total=   4.8s\n",
            "[CV] C=100, gamma=1e-05, kernel=rbf ..................................\n",
            "[CV] ...... C=100, gamma=1e-05, kernel=rbf, score=0.968, total=   5.0s\n",
            "[CV] C=100, gamma=1e-05, kernel=rbf ..................................\n",
            "[CV] ...... C=100, gamma=1e-05, kernel=rbf, score=0.972, total=   4.8s\n",
            "[CV] C=1000, gamma=0.01, kernel=linear ...............................\n",
            "[CV] ... C=1000, gamma=0.01, kernel=linear, score=0.980, total=   2.6s\n",
            "[CV] C=1000, gamma=0.01, kernel=linear ...............................\n",
            "[CV] ... C=1000, gamma=0.01, kernel=linear, score=0.978, total=   2.8s\n",
            "[CV] C=1000, gamma=0.01, kernel=linear ...............................\n",
            "[CV] ... C=1000, gamma=0.01, kernel=linear, score=0.983, total=   2.7s\n",
            "[CV] C=1000, gamma=0.01, kernel=linear ...............................\n",
            "[CV] ... C=1000, gamma=0.01, kernel=linear, score=0.988, total=   2.8s\n",
            "[CV] C=1000, gamma=0.01, kernel=linear ...............................\n",
            "[CV] ... C=1000, gamma=0.01, kernel=linear, score=0.985, total=   2.9s\n",
            "[CV] C=1000, gamma=0.01, kernel=rbf ..................................\n",
            "[CV] ...... C=1000, gamma=0.01, kernel=rbf, score=0.923, total=  21.2s\n",
            "[CV] C=1000, gamma=0.01, kernel=rbf ..................................\n",
            "[CV] ...... C=1000, gamma=0.01, kernel=rbf, score=0.936, total=  21.6s\n",
            "[CV] C=1000, gamma=0.01, kernel=rbf ..................................\n",
            "[CV] ...... C=1000, gamma=0.01, kernel=rbf, score=0.930, total=  21.6s\n",
            "[CV] C=1000, gamma=0.01, kernel=rbf ..................................\n",
            "[CV] ...... C=1000, gamma=0.01, kernel=rbf, score=0.934, total=  21.4s\n",
            "[CV] C=1000, gamma=0.01, kernel=rbf ..................................\n",
            "[CV] ...... C=1000, gamma=0.01, kernel=rbf, score=0.940, total=  21.6s\n",
            "[CV] C=1000, gamma=0.001, kernel=linear ..............................\n",
            "[CV] .. C=1000, gamma=0.001, kernel=linear, score=0.980, total=   2.6s\n",
            "[CV] C=1000, gamma=0.001, kernel=linear ..............................\n",
            "[CV] .. C=1000, gamma=0.001, kernel=linear, score=0.978, total=   2.8s\n",
            "[CV] C=1000, gamma=0.001, kernel=linear ..............................\n",
            "[CV] .. C=1000, gamma=0.001, kernel=linear, score=0.983, total=   2.7s\n",
            "[CV] C=1000, gamma=0.001, kernel=linear ..............................\n",
            "[CV] .. C=1000, gamma=0.001, kernel=linear, score=0.988, total=   2.9s\n",
            "[CV] C=1000, gamma=0.001, kernel=linear ..............................\n",
            "[CV] .. C=1000, gamma=0.001, kernel=linear, score=0.985, total=   2.9s\n",
            "[CV] C=1000, gamma=0.001, kernel=rbf .................................\n",
            "[CV] ..... C=1000, gamma=0.001, kernel=rbf, score=0.972, total=   5.7s\n",
            "[CV] C=1000, gamma=0.001, kernel=rbf .................................\n",
            "[CV] ..... C=1000, gamma=0.001, kernel=rbf, score=0.978, total=   6.0s\n",
            "[CV] C=1000, gamma=0.001, kernel=rbf .................................\n",
            "[CV] ..... C=1000, gamma=0.001, kernel=rbf, score=0.977, total=   5.9s\n",
            "[CV] C=1000, gamma=0.001, kernel=rbf .................................\n",
            "[CV] ..... C=1000, gamma=0.001, kernel=rbf, score=0.983, total=   5.9s\n",
            "[CV] C=1000, gamma=0.001, kernel=rbf .................................\n",
            "[CV] ..... C=1000, gamma=0.001, kernel=rbf, score=0.983, total=   6.4s\n",
            "[CV] C=1000, gamma=0.0001, kernel=linear .............................\n",
            "[CV] . C=1000, gamma=0.0001, kernel=linear, score=0.980, total=   2.8s\n",
            "[CV] C=1000, gamma=0.0001, kernel=linear .............................\n",
            "[CV] . C=1000, gamma=0.0001, kernel=linear, score=0.978, total=   2.8s\n",
            "[CV] C=1000, gamma=0.0001, kernel=linear .............................\n",
            "[CV] . C=1000, gamma=0.0001, kernel=linear, score=0.983, total=   2.8s\n",
            "[CV] C=1000, gamma=0.0001, kernel=linear .............................\n",
            "[CV] . C=1000, gamma=0.0001, kernel=linear, score=0.988, total=   3.1s\n",
            "[CV] C=1000, gamma=0.0001, kernel=linear .............................\n",
            "[CV] . C=1000, gamma=0.0001, kernel=linear, score=0.985, total=   3.1s\n",
            "[CV] C=1000, gamma=0.0001, kernel=rbf ................................\n",
            "[CV] .... C=1000, gamma=0.0001, kernel=rbf, score=0.984, total=   3.3s\n",
            "[CV] C=1000, gamma=0.0001, kernel=rbf ................................\n",
            "[CV] .... C=1000, gamma=0.0001, kernel=rbf, score=0.978, total=   3.2s\n",
            "[CV] C=1000, gamma=0.0001, kernel=rbf ................................\n",
            "[CV] .... C=1000, gamma=0.0001, kernel=rbf, score=0.984, total=   3.1s\n",
            "[CV] C=1000, gamma=0.0001, kernel=rbf ................................\n",
            "[CV] .... C=1000, gamma=0.0001, kernel=rbf, score=0.987, total=   3.2s\n",
            "[CV] C=1000, gamma=0.0001, kernel=rbf ................................\n",
            "[CV] .... C=1000, gamma=0.0001, kernel=rbf, score=0.983, total=   3.1s\n",
            "[CV] C=1000, gamma=1e-05, kernel=linear ..............................\n",
            "[CV] .. C=1000, gamma=1e-05, kernel=linear, score=0.980, total=   2.6s\n",
            "[CV] C=1000, gamma=1e-05, kernel=linear ..............................\n",
            "[CV] .. C=1000, gamma=1e-05, kernel=linear, score=0.978, total=   2.8s\n",
            "[CV] C=1000, gamma=1e-05, kernel=linear ..............................\n",
            "[CV] .. C=1000, gamma=1e-05, kernel=linear, score=0.983, total=   2.7s\n",
            "[CV] C=1000, gamma=1e-05, kernel=linear ..............................\n",
            "[CV] .. C=1000, gamma=1e-05, kernel=linear, score=0.988, total=   2.9s\n",
            "[CV] C=1000, gamma=1e-05, kernel=linear ..............................\n",
            "[CV] .. C=1000, gamma=1e-05, kernel=linear, score=0.985, total=   2.9s\n",
            "[CV] C=1000, gamma=1e-05, kernel=rbf .................................\n",
            "[CV] ..... C=1000, gamma=1e-05, kernel=rbf, score=0.983, total=   3.0s\n",
            "[CV] C=1000, gamma=1e-05, kernel=rbf .................................\n",
            "[CV] ..... C=1000, gamma=1e-05, kernel=rbf, score=0.980, total=   2.9s\n",
            "[CV] C=1000, gamma=1e-05, kernel=rbf .................................\n",
            "[CV] ..... C=1000, gamma=1e-05, kernel=rbf, score=0.990, total=   3.0s\n",
            "[CV] C=1000, gamma=1e-05, kernel=rbf .................................\n",
            "[CV] ..... C=1000, gamma=1e-05, kernel=rbf, score=0.989, total=   3.0s\n",
            "[CV] C=1000, gamma=1e-05, kernel=rbf .................................\n",
            "[CV] ..... C=1000, gamma=1e-05, kernel=rbf, score=0.988, total=   3.0s\n",
            "[CV] C=10000, gamma=0.01, kernel=linear ..............................\n",
            "[CV] .. C=10000, gamma=0.01, kernel=linear, score=0.980, total=   2.7s\n",
            "[CV] C=10000, gamma=0.01, kernel=linear ..............................\n",
            "[CV] .. C=10000, gamma=0.01, kernel=linear, score=0.978, total=   2.8s\n",
            "[CV] C=10000, gamma=0.01, kernel=linear ..............................\n",
            "[CV] .. C=10000, gamma=0.01, kernel=linear, score=0.983, total=   2.7s\n",
            "[CV] C=10000, gamma=0.01, kernel=linear ..............................\n",
            "[CV] .. C=10000, gamma=0.01, kernel=linear, score=0.988, total=   2.9s\n",
            "[CV] C=10000, gamma=0.01, kernel=linear ..............................\n",
            "[CV] .. C=10000, gamma=0.01, kernel=linear, score=0.985, total=   2.9s\n",
            "[CV] C=10000, gamma=0.01, kernel=rbf .................................\n",
            "[CV] ..... C=10000, gamma=0.01, kernel=rbf, score=0.923, total=  21.3s\n",
            "[CV] C=10000, gamma=0.01, kernel=rbf .................................\n",
            "[CV] ..... C=10000, gamma=0.01, kernel=rbf, score=0.936, total=  21.6s\n",
            "[CV] C=10000, gamma=0.01, kernel=rbf .................................\n",
            "[CV] ..... C=10000, gamma=0.01, kernel=rbf, score=0.930, total=  21.5s\n",
            "[CV] C=10000, gamma=0.01, kernel=rbf .................................\n",
            "[CV] ..... C=10000, gamma=0.01, kernel=rbf, score=0.934, total=  21.3s\n",
            "[CV] C=10000, gamma=0.01, kernel=rbf .................................\n",
            "[CV] ..... C=10000, gamma=0.01, kernel=rbf, score=0.940, total=  21.4s\n",
            "[CV] C=10000, gamma=0.001, kernel=linear .............................\n",
            "[CV] . C=10000, gamma=0.001, kernel=linear, score=0.980, total=   2.6s\n",
            "[CV] C=10000, gamma=0.001, kernel=linear .............................\n",
            "[CV] . C=10000, gamma=0.001, kernel=linear, score=0.978, total=   2.8s\n",
            "[CV] C=10000, gamma=0.001, kernel=linear .............................\n",
            "[CV] . C=10000, gamma=0.001, kernel=linear, score=0.983, total=   2.7s\n",
            "[CV] C=10000, gamma=0.001, kernel=linear .............................\n",
            "[CV] . C=10000, gamma=0.001, kernel=linear, score=0.988, total=   2.9s\n",
            "[CV] C=10000, gamma=0.001, kernel=linear .............................\n",
            "[CV] . C=10000, gamma=0.001, kernel=linear, score=0.985, total=   2.9s\n",
            "[CV] C=10000, gamma=0.001, kernel=rbf ................................\n",
            "[CV] .... C=10000, gamma=0.001, kernel=rbf, score=0.972, total=   5.8s\n",
            "[CV] C=10000, gamma=0.001, kernel=rbf ................................\n",
            "[CV] .... C=10000, gamma=0.001, kernel=rbf, score=0.978, total=   6.0s\n",
            "[CV] C=10000, gamma=0.001, kernel=rbf ................................\n",
            "[CV] .... C=10000, gamma=0.001, kernel=rbf, score=0.977, total=   5.9s\n",
            "[CV] C=10000, gamma=0.001, kernel=rbf ................................\n",
            "[CV] .... C=10000, gamma=0.001, kernel=rbf, score=0.983, total=   5.9s\n",
            "[CV] C=10000, gamma=0.001, kernel=rbf ................................\n",
            "[CV] .... C=10000, gamma=0.001, kernel=rbf, score=0.983, total=   6.0s\n",
            "[CV] C=10000, gamma=0.0001, kernel=linear ............................\n",
            "[CV]  C=10000, gamma=0.0001, kernel=linear, score=0.980, total=   2.6s\n",
            "[CV] C=10000, gamma=0.0001, kernel=linear ............................\n",
            "[CV]  C=10000, gamma=0.0001, kernel=linear, score=0.978, total=   2.8s\n",
            "[CV] C=10000, gamma=0.0001, kernel=linear ............................\n",
            "[CV]  C=10000, gamma=0.0001, kernel=linear, score=0.983, total=   2.7s\n",
            "[CV] C=10000, gamma=0.0001, kernel=linear ............................\n",
            "[CV]  C=10000, gamma=0.0001, kernel=linear, score=0.988, total=   2.9s\n",
            "[CV] C=10000, gamma=0.0001, kernel=linear ............................\n",
            "[CV]  C=10000, gamma=0.0001, kernel=linear, score=0.985, total=   2.9s\n",
            "[CV] C=10000, gamma=0.0001, kernel=rbf ...............................\n",
            "[CV] ... C=10000, gamma=0.0001, kernel=rbf, score=0.981, total=   2.9s\n",
            "[CV] C=10000, gamma=0.0001, kernel=rbf ...............................\n",
            "[CV] ... C=10000, gamma=0.0001, kernel=rbf, score=0.977, total=   2.9s\n",
            "[CV] C=10000, gamma=0.0001, kernel=rbf ...............................\n",
            "[CV] ... C=10000, gamma=0.0001, kernel=rbf, score=0.984, total=   3.0s\n",
            "[CV] C=10000, gamma=0.0001, kernel=rbf ...............................\n",
            "[CV] ... C=10000, gamma=0.0001, kernel=rbf, score=0.985, total=   3.0s\n",
            "[CV] C=10000, gamma=0.0001, kernel=rbf ...............................\n",
            "[CV] ... C=10000, gamma=0.0001, kernel=rbf, score=0.981, total=   3.0s\n",
            "[CV] C=10000, gamma=1e-05, kernel=linear .............................\n",
            "[CV] . C=10000, gamma=1e-05, kernel=linear, score=0.980, total=   2.6s\n",
            "[CV] C=10000, gamma=1e-05, kernel=linear .............................\n",
            "[CV] . C=10000, gamma=1e-05, kernel=linear, score=0.978, total=   2.8s\n",
            "[CV] C=10000, gamma=1e-05, kernel=linear .............................\n",
            "[CV] . C=10000, gamma=1e-05, kernel=linear, score=0.983, total=   2.7s\n",
            "[CV] C=10000, gamma=1e-05, kernel=linear .............................\n",
            "[CV] . C=10000, gamma=1e-05, kernel=linear, score=0.988, total=   2.8s\n",
            "[CV] C=10000, gamma=1e-05, kernel=linear .............................\n",
            "[CV] . C=10000, gamma=1e-05, kernel=linear, score=0.985, total=   2.9s\n",
            "[CV] C=10000, gamma=1e-05, kernel=rbf ................................\n",
            "[CV] .... C=10000, gamma=1e-05, kernel=rbf, score=0.980, total=   2.6s\n",
            "[CV] C=10000, gamma=1e-05, kernel=rbf ................................\n",
            "[CV] .... C=10000, gamma=1e-05, kernel=rbf, score=0.979, total=   2.8s\n",
            "[CV] C=10000, gamma=1e-05, kernel=rbf ................................\n",
            "[CV] .... C=10000, gamma=1e-05, kernel=rbf, score=0.984, total=   2.7s\n",
            "[CV] C=10000, gamma=1e-05, kernel=rbf ................................\n",
            "[CV] .... C=10000, gamma=1e-05, kernel=rbf, score=0.988, total=   2.8s\n",
            "[CV] C=10000, gamma=1e-05, kernel=rbf ................................\n",
            "[CV] .... C=10000, gamma=1e-05, kernel=rbf, score=0.988, total=   2.7s\n",
            "[CV] C=100000, gamma=0.01, kernel=linear .............................\n",
            "[CV] . C=100000, gamma=0.01, kernel=linear, score=0.980, total=   2.7s\n",
            "[CV] C=100000, gamma=0.01, kernel=linear .............................\n",
            "[CV] . C=100000, gamma=0.01, kernel=linear, score=0.978, total=   2.8s\n",
            "[CV] C=100000, gamma=0.01, kernel=linear .............................\n",
            "[CV] . C=100000, gamma=0.01, kernel=linear, score=0.983, total=   2.7s\n",
            "[CV] C=100000, gamma=0.01, kernel=linear .............................\n",
            "[CV] . C=100000, gamma=0.01, kernel=linear, score=0.988, total=   2.9s\n",
            "[CV] C=100000, gamma=0.01, kernel=linear .............................\n",
            "[CV] . C=100000, gamma=0.01, kernel=linear, score=0.985, total=   2.9s\n",
            "[CV] C=100000, gamma=0.01, kernel=rbf ................................\n",
            "[CV] .... C=100000, gamma=0.01, kernel=rbf, score=0.923, total=  21.7s\n",
            "[CV] C=100000, gamma=0.01, kernel=rbf ................................\n",
            "[CV] .... C=100000, gamma=0.01, kernel=rbf, score=0.936, total=  22.0s\n",
            "[CV] C=100000, gamma=0.01, kernel=rbf ................................\n",
            "[CV] .... C=100000, gamma=0.01, kernel=rbf, score=0.930, total=  21.6s\n",
            "[CV] C=100000, gamma=0.01, kernel=rbf ................................\n",
            "[CV] .... C=100000, gamma=0.01, kernel=rbf, score=0.934, total=  21.5s\n",
            "[CV] C=100000, gamma=0.01, kernel=rbf ................................\n",
            "[CV] .... C=100000, gamma=0.01, kernel=rbf, score=0.940, total=  21.5s\n",
            "[CV] C=100000, gamma=0.001, kernel=linear ............................\n",
            "[CV]  C=100000, gamma=0.001, kernel=linear, score=0.980, total=   2.6s\n",
            "[CV] C=100000, gamma=0.001, kernel=linear ............................\n",
            "[CV]  C=100000, gamma=0.001, kernel=linear, score=0.978, total=   2.8s\n",
            "[CV] C=100000, gamma=0.001, kernel=linear ............................\n",
            "[CV]  C=100000, gamma=0.001, kernel=linear, score=0.983, total=   2.7s\n",
            "[CV] C=100000, gamma=0.001, kernel=linear ............................\n",
            "[CV]  C=100000, gamma=0.001, kernel=linear, score=0.988, total=   2.9s\n",
            "[CV] C=100000, gamma=0.001, kernel=linear ............................\n",
            "[CV]  C=100000, gamma=0.001, kernel=linear, score=0.985, total=   2.9s\n",
            "[CV] C=100000, gamma=0.001, kernel=rbf ...............................\n",
            "[CV] ... C=100000, gamma=0.001, kernel=rbf, score=0.972, total=   5.7s\n",
            "[CV] C=100000, gamma=0.001, kernel=rbf ...............................\n",
            "[CV] ... C=100000, gamma=0.001, kernel=rbf, score=0.978, total=   6.0s\n",
            "[CV] C=100000, gamma=0.001, kernel=rbf ...............................\n",
            "[CV] ... C=100000, gamma=0.001, kernel=rbf, score=0.977, total=   5.9s\n",
            "[CV] C=100000, gamma=0.001, kernel=rbf ...............................\n",
            "[CV] ... C=100000, gamma=0.001, kernel=rbf, score=0.983, total=   5.9s\n",
            "[CV] C=100000, gamma=0.001, kernel=rbf ...............................\n",
            "[CV] ... C=100000, gamma=0.001, kernel=rbf, score=0.983, total=   6.0s\n",
            "[CV] C=100000, gamma=0.0001, kernel=linear ...........................\n",
            "[CV]  C=100000, gamma=0.0001, kernel=linear, score=0.980, total=   2.6s\n",
            "[CV] C=100000, gamma=0.0001, kernel=linear ...........................\n",
            "[CV]  C=100000, gamma=0.0001, kernel=linear, score=0.978, total=   2.8s\n",
            "[CV] C=100000, gamma=0.0001, kernel=linear ...........................\n",
            "[CV]  C=100000, gamma=0.0001, kernel=linear, score=0.983, total=   2.7s\n",
            "[CV] C=100000, gamma=0.0001, kernel=linear ...........................\n",
            "[CV]  C=100000, gamma=0.0001, kernel=linear, score=0.988, total=   2.9s\n",
            "[CV] C=100000, gamma=0.0001, kernel=linear ...........................\n",
            "[CV]  C=100000, gamma=0.0001, kernel=linear, score=0.985, total=   2.9s\n",
            "[CV] C=100000, gamma=0.0001, kernel=rbf ..............................\n",
            "[CV] .. C=100000, gamma=0.0001, kernel=rbf, score=0.981, total=   2.9s\n",
            "[CV] C=100000, gamma=0.0001, kernel=rbf ..............................\n",
            "[CV] .. C=100000, gamma=0.0001, kernel=rbf, score=0.977, total=   2.9s\n",
            "[CV] C=100000, gamma=0.0001, kernel=rbf ..............................\n",
            "[CV] .. C=100000, gamma=0.0001, kernel=rbf, score=0.984, total=   3.1s\n",
            "[CV] C=100000, gamma=0.0001, kernel=rbf ..............................\n",
            "[CV] .. C=100000, gamma=0.0001, kernel=rbf, score=0.985, total=   3.1s\n",
            "[CV] C=100000, gamma=0.0001, kernel=rbf ..............................\n",
            "[CV] .. C=100000, gamma=0.0001, kernel=rbf, score=0.981, total=   3.0s\n",
            "[CV] C=100000, gamma=1e-05, kernel=linear ............................\n",
            "[CV]  C=100000, gamma=1e-05, kernel=linear, score=0.980, total=   2.6s\n",
            "[CV] C=100000, gamma=1e-05, kernel=linear ............................\n",
            "[CV]  C=100000, gamma=1e-05, kernel=linear, score=0.978, total=   2.8s\n",
            "[CV] C=100000, gamma=1e-05, kernel=linear ............................\n",
            "[CV]  C=100000, gamma=1e-05, kernel=linear, score=0.983, total=   2.8s\n",
            "[CV] C=100000, gamma=1e-05, kernel=linear ............................\n",
            "[CV]  C=100000, gamma=1e-05, kernel=linear, score=0.988, total=   2.9s\n",
            "[CV] C=100000, gamma=1e-05, kernel=linear ............................\n",
            "[CV]  C=100000, gamma=1e-05, kernel=linear, score=0.985, total=   2.9s\n",
            "[CV] C=100000, gamma=1e-05, kernel=rbf ...............................\n",
            "[CV] ... C=100000, gamma=1e-05, kernel=rbf, score=0.979, total=   2.6s\n",
            "[CV] C=100000, gamma=1e-05, kernel=rbf ...............................\n",
            "[CV] ... C=100000, gamma=1e-05, kernel=rbf, score=0.978, total=   2.7s\n",
            "[CV] C=100000, gamma=1e-05, kernel=rbf ...............................\n",
            "[CV] ... C=100000, gamma=1e-05, kernel=rbf, score=0.984, total=   2.7s\n",
            "[CV] C=100000, gamma=1e-05, kernel=rbf ...............................\n",
            "[CV] ... C=100000, gamma=1e-05, kernel=rbf, score=0.987, total=   2.8s\n",
            "[CV] C=100000, gamma=1e-05, kernel=rbf ...............................\n",
            "[CV] ... C=100000, gamma=1e-05, kernel=rbf, score=0.985, total=   2.8s\n"
          ],
          "name": "stdout"
        },
        {
          "output_type": "stream",
          "text": [
            "[Parallel(n_jobs=1)]: Done 240 out of 240 | elapsed: 24.5min finished\n"
          ],
          "name": "stderr"
        },
        {
          "output_type": "execute_result",
          "data": {
            "text/plain": [
              "GridSearchCV(cv=None, error_score=nan,\n",
              "             estimator=SVC(C=1.0, break_ties=False, cache_size=200,\n",
              "                           class_weight=None, coef0=0.0,\n",
              "                           decision_function_shape='ovr', degree=3,\n",
              "                           gamma='scale', kernel='rbf', max_iter=-1,\n",
              "                           probability=False, random_state=None, shrinking=True,\n",
              "                           tol=0.001, verbose=False),\n",
              "             iid='deprecated', n_jobs=None,\n",
              "             param_grid={'C': [1, 10, 100, 1000, 10000, 100000],\n",
              "                         'gamma': [0.01, 0.001, 0.0001, 1e-05],\n",
              "                         'kernel': ['linear', 'rbf']},\n",
              "             pre_dispatch='2*n_jobs', refit=True, return_train_score=False,\n",
              "             scoring=None, verbose=10)"
            ]
          },
          "metadata": {
            "tags": []
          },
          "execution_count": 43
        }
      ]
    },
    {
      "cell_type": "code",
      "metadata": {
        "id": "bC5yhPM8i1nC",
        "colab_type": "code",
        "colab": {
          "base_uri": "https://localhost:8080/",
          "height": 34
        },
        "outputId": "6a8492ad-7acf-4f2f-dc9f-4855e495a87f"
      },
      "source": [
        "#Best parameters according to those given in GridSearchCV\n",
        "print(\"Best Model Parameters : {}\".format(gridmodel.best_params_))"
      ],
      "execution_count": 44,
      "outputs": [
        {
          "output_type": "stream",
          "text": [
            "Best Model Parameters : {'C': 1000, 'gamma': 1e-05, 'kernel': 'rbf'}\n"
          ],
          "name": "stdout"
        }
      ]
    },
    {
      "cell_type": "code",
      "metadata": {
        "id": "c9dboIaahv8n",
        "colab_type": "code",
        "colab": {
          "base_uri": "https://localhost:8080/",
          "height": 34
        },
        "outputId": "a3dd08c0-77be-479f-c034-a0347a850648"
      },
      "source": [
        "# Model Accuracy according to best parameters \n",
        "gridmodel.score(testing_data,y_test)"
      ],
      "execution_count": 45,
      "outputs": [
        {
          "output_type": "execute_result",
          "data": {
            "text/plain": [
              "0.987783595113438"
            ]
          },
          "metadata": {
            "tags": []
          },
          "execution_count": 45
        }
      ]
    }
  ]
}