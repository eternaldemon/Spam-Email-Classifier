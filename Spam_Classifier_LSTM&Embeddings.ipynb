{
  "nbformat": 4,
  "nbformat_minor": 0,
  "metadata": {
    "colab": {
      "name": "Spam Classifier LSTM&Embeddings.ipynb",
      "provenance": [],
      "collapsed_sections": [],
      "authorship_tag": "ABX9TyOg1hMS/pHnCuhcFlhfW6fs",
      "include_colab_link": true
    },
    "kernelspec": {
      "name": "python3",
      "display_name": "Python 3"
    },
    "accelerator": "TPU"
  },
  "cells": [
    {
      "cell_type": "markdown",
      "metadata": {
        "id": "view-in-github",
        "colab_type": "text"
      },
      "source": [
        "<a href=\"https://colab.research.google.com/github/eternaldemon/Spam-Email-Classifier/blob/master/Spam_Classifier_LSTM%26Embeddings.ipynb\" target=\"_parent\"><img src=\"https://colab.research.google.com/assets/colab-badge.svg\" alt=\"Open In Colab\"/></a>"
      ]
    },
    {
      "cell_type": "code",
      "metadata": {
        "id": "oK11vhaQ0Ki8",
        "colab_type": "code",
        "colab": {}
      },
      "source": [
        "# @author:eternal_demon/Bhanu Aggarwal\n"
      ],
      "execution_count": null,
      "outputs": []
    },
    {
      "cell_type": "code",
      "metadata": {
        "id": "uTCBHWZ10cio",
        "colab_type": "code",
        "colab": {}
      },
      "source": [
        "import numpy as np\n",
        "import pandas as pd\n",
        "import matplotlib.pyplot as plt\n",
        "import tensorflow as tf\n",
        "from tensorflow import keras\n",
        "from tensorflow.keras.models import Model\n",
        "from tensorflow.keras.layers import Dense,Dropout,Conv2D,Flatten,Input,GlobalMaxPooling1D, LSTM,Embedding\n",
        "import os\n",
        "from tensorflow.keras.preprocessing.text import Tokenizer\n",
        "from tensorflow.keras.preprocessing.sequence import pad_sequences\n",
        "import sklearn\n",
        "from sklearn.model_selection import train_test_split"
      ],
      "execution_count": 1,
      "outputs": []
    },
    {
      "cell_type": "code",
      "metadata": {
        "id": "qZ1AGIQY1Utz",
        "colab_type": "code",
        "colab": {}
      },
      "source": [
        "url = 'https://drive.google.com/file/d/16BBhy4u0QNd8ArilduIVUn3oCraPjivs/view?usp=sharing'\n",
        "from google.colab import files\n",
        "files.upload()\n"
      ],
      "execution_count": null,
      "outputs": []
    },
    {
      "cell_type": "code",
      "metadata": {
        "id": "8tgZ_CvN2BIM",
        "colab_type": "code",
        "colab": {}
      },
      "source": [
        "data = pd.read_csv('emails.csv')"
      ],
      "execution_count": 4,
      "outputs": []
    },
    {
      "cell_type": "code",
      "metadata": {
        "id": "RUXxD4k_2Iuw",
        "colab_type": "code",
        "colab": {
          "base_uri": "https://localhost:8080/",
          "height": 204
        },
        "outputId": "2ff84d65-c18b-45a6-aaad-a4a14bae75d4"
      },
      "source": [
        "data.head()"
      ],
      "execution_count": 5,
      "outputs": [
        {
          "output_type": "execute_result",
          "data": {
            "text/html": [
              "<div>\n",
              "<style scoped>\n",
              "    .dataframe tbody tr th:only-of-type {\n",
              "        vertical-align: middle;\n",
              "    }\n",
              "\n",
              "    .dataframe tbody tr th {\n",
              "        vertical-align: top;\n",
              "    }\n",
              "\n",
              "    .dataframe thead th {\n",
              "        text-align: right;\n",
              "    }\n",
              "</style>\n",
              "<table border=\"1\" class=\"dataframe\">\n",
              "  <thead>\n",
              "    <tr style=\"text-align: right;\">\n",
              "      <th></th>\n",
              "      <th>text</th>\n",
              "      <th>spam</th>\n",
              "    </tr>\n",
              "  </thead>\n",
              "  <tbody>\n",
              "    <tr>\n",
              "      <th>0</th>\n",
              "      <td>Subject: naturally irresistible your corporate...</td>\n",
              "      <td>1</td>\n",
              "    </tr>\n",
              "    <tr>\n",
              "      <th>1</th>\n",
              "      <td>Subject: the stock trading gunslinger  fanny i...</td>\n",
              "      <td>1</td>\n",
              "    </tr>\n",
              "    <tr>\n",
              "      <th>2</th>\n",
              "      <td>Subject: unbelievable new homes made easy  im ...</td>\n",
              "      <td>1</td>\n",
              "    </tr>\n",
              "    <tr>\n",
              "      <th>3</th>\n",
              "      <td>Subject: 4 color printing special  request add...</td>\n",
              "      <td>1</td>\n",
              "    </tr>\n",
              "    <tr>\n",
              "      <th>4</th>\n",
              "      <td>Subject: do not have money , get software cds ...</td>\n",
              "      <td>1</td>\n",
              "    </tr>\n",
              "  </tbody>\n",
              "</table>\n",
              "</div>"
            ],
            "text/plain": [
              "                                                text  spam\n",
              "0  Subject: naturally irresistible your corporate...     1\n",
              "1  Subject: the stock trading gunslinger  fanny i...     1\n",
              "2  Subject: unbelievable new homes made easy  im ...     1\n",
              "3  Subject: 4 color printing special  request add...     1\n",
              "4  Subject: do not have money , get software cds ...     1"
            ]
          },
          "metadata": {
            "tags": []
          },
          "execution_count": 5
        }
      ]
    },
    {
      "cell_type": "code",
      "metadata": {
        "id": "Rls4NomDR6Wu",
        "colab_type": "code",
        "colab": {}
      },
      "source": [
        "x = data.iloc[:,:-1]\n",
        "y = data.iloc[:,1]"
      ],
      "execution_count": 6,
      "outputs": []
    },
    {
      "cell_type": "code",
      "metadata": {
        "id": "xOTKeGrCSIR-",
        "colab_type": "code",
        "colab": {
          "base_uri": "https://localhost:8080/",
          "height": 51
        },
        "outputId": "23e86a52-1674-42bf-e6b7-9a60adef7cad"
      },
      "source": [
        "print(x.shape)\n",
        "print(y.shape)"
      ],
      "execution_count": 7,
      "outputs": [
        {
          "output_type": "stream",
          "text": [
            "(5728, 1)\n",
            "(5728,)\n"
          ],
          "name": "stdout"
        }
      ]
    },
    {
      "cell_type": "code",
      "metadata": {
        "id": "26FR-dj8SOUE",
        "colab_type": "code",
        "colab": {}
      },
      "source": [
        "y = np.array(y)"
      ],
      "execution_count": 8,
      "outputs": []
    },
    {
      "cell_type": "code",
      "metadata": {
        "id": "Dg3pCH2uScmM",
        "colab_type": "code",
        "colab": {}
      },
      "source": [
        "y = np.reshape(y,(-1,1))"
      ],
      "execution_count": 9,
      "outputs": []
    },
    {
      "cell_type": "code",
      "metadata": {
        "id": "JZDf1WvfSoBU",
        "colab_type": "code",
        "colab": {}
      },
      "source": [
        "y = pd.DataFrame(y)"
      ],
      "execution_count": 10,
      "outputs": []
    },
    {
      "cell_type": "code",
      "metadata": {
        "id": "qWEVwDGsTjsK",
        "colab_type": "code",
        "colab": {}
      },
      "source": [
        "temp =[]\n",
        "notrequired = [',' , '.' , \"Subject\" , ':' , '?' , '*' , '&' , '%' , '$' , '#' , '@' , '!' , '~' , '/' ,'-','_','\\,'] "
      ],
      "execution_count": 11,
      "outputs": []
    },
    {
      "cell_type": "code",
      "metadata": {
        "id": "Uosqrtg5Sq82",
        "colab_type": "code",
        "colab": {}
      },
      "source": [
        "'''\n",
        "for i in range(len(x)):\n",
        "  #print(x.iloc[i,0])\n",
        "  abc =\"\"\n",
        "  for word in x.iloc[i,0]:\n",
        "    if(word not in notrequired):\n",
        "      abc = abc + word +\" \"\n",
        "  temp.append(abc)\n",
        "  #print(temp[i])\n",
        "  #print(\"----------------------------------------------------------------------------------------------------------------\")\n",
        "  '''"
      ],
      "execution_count": null,
      "outputs": []
    },
    {
      "cell_type": "code",
      "metadata": {
        "id": "MweMqck6X23q",
        "colab_type": "code",
        "colab": {}
      },
      "source": [
        "'''\n",
        "for i in range(len(x)):\n",
        "  abc=x.iloc[i,0]\n",
        "  temp.append(abc)\n",
        "  #print(abc)\n",
        "\n",
        "'''"
      ],
      "execution_count": null,
      "outputs": []
    },
    {
      "cell_type": "code",
      "metadata": {
        "id": "bKpGeVtcWBc2",
        "colab_type": "code",
        "colab": {}
      },
      "source": [
        "'''\n",
        "for entry in range(len(temp)):\n",
        "  temp[entry] = temp[entry][13:]\n",
        "  #print(temp[entry])\n",
        "  #print(\"-------------------\")\n",
        "\n",
        "'''\n"
      ],
      "execution_count": 86,
      "outputs": []
    },
    {
      "cell_type": "code",
      "metadata": {
        "id": "0r4xSUQ3ZA7-",
        "colab_type": "code",
        "colab": {}
      },
      "source": [
        ""
      ],
      "execution_count": 91,
      "outputs": []
    },
    {
      "cell_type": "code",
      "metadata": {
        "id": "MN4tpBT3ZRoT",
        "colab_type": "code",
        "colab": {}
      },
      "source": [
        "x_train,x_test,y_train,y_test = train_test_split(x['text'],y,test_size=0.2)"
      ],
      "execution_count": 12,
      "outputs": []
    },
    {
      "cell_type": "code",
      "metadata": {
        "id": "HBrJj5_3Z2al",
        "colab_type": "code",
        "colab": {}
      },
      "source": [
        "# Convert sentences to sequences\n",
        "MAX_VOCAB_SIZE = 30000\n",
        "tokenizer = Tokenizer(num_words=MAX_VOCAB_SIZE)\n",
        "tokenizer.fit_on_texts(x_train)\n",
        "sequences_train = tokenizer.texts_to_sequences(x_train)\n",
        "sequences_test = tokenizer.texts_to_sequences(x_test)"
      ],
      "execution_count": 13,
      "outputs": []
    },
    {
      "cell_type": "code",
      "metadata": {
        "id": "PM7XI1T5Z-hW",
        "colab_type": "code",
        "colab": {
          "base_uri": "https://localhost:8080/",
          "height": 34
        },
        "outputId": "ce3fecf1-d4e0-4d41-f844-0ceb425cb1b1"
      },
      "source": [
        "#Get word to integer mapping\n",
        "\n",
        "word2idx = tokenizer.word_index\n",
        "v = len(word2idx)\n",
        "print('No of tokens:', v)"
      ],
      "execution_count": 14,
      "outputs": [
        {
          "output_type": "stream",
          "text": [
            "No of tokens: 33916\n"
          ],
          "name": "stdout"
        }
      ]
    },
    {
      "cell_type": "code",
      "metadata": {
        "id": "zWolIjZyaY32",
        "colab_type": "code",
        "colab": {
          "base_uri": "https://localhost:8080/",
          "height": 51
        },
        "outputId": "a54a149f-a44f-4056-cbc2-fed0495a8a71"
      },
      "source": [
        "# padding sequences so that we get a N x T matrix\n",
        "\n",
        "data_train = pad_sequences(sequences_train)\n",
        "print('Shape of data train tensor:', data_train.shape)\n",
        "\n",
        "# get sequence length\n",
        "T = data_train.shape[1]\n",
        "print(T)"
      ],
      "execution_count": 15,
      "outputs": [
        {
          "output_type": "stream",
          "text": [
            "Shape of data train tensor: (4582, 7264)\n",
            "7264\n"
          ],
          "name": "stdout"
        }
      ]
    },
    {
      "cell_type": "code",
      "metadata": {
        "id": "_hojZzk7an1n",
        "colab_type": "code",
        "colab": {
          "base_uri": "https://localhost:8080/",
          "height": 34
        },
        "outputId": "d9ff121e-3525-4f6b-8dd9-8d507a2c068f"
      },
      "source": [
        "data_test = pad_sequences(sequences_test, maxlen=T)\n",
        "print('Shape of data test tensor:', data_test.shape)"
      ],
      "execution_count": 16,
      "outputs": [
        {
          "output_type": "stream",
          "text": [
            "Shape of data test tensor: (1146, 7264)\n"
          ],
          "name": "stdout"
        }
      ]
    },
    {
      "cell_type": "code",
      "metadata": {
        "id": "Nluii3hxaspU",
        "colab_type": "code",
        "colab": {}
      },
      "source": [
        "# Create the model\n",
        "\n",
        "#Choosing embedding dimensionality\n",
        "D = 20\n",
        "\n",
        "# Choosing Hidden state dimensionality\n",
        "M = 15\n",
        "\n",
        "# Note: we actually want to the size of the embedding to (V + 1) x D,\n",
        "# because the first index starts from 1 and not 0.\n",
        "# Thus, if the final index of the embedding matrix is V,\n",
        "# then it actually must have size V + 1.\n",
        "\n",
        "i = Input(shape=(T,))\n",
        "x = Embedding(v + 1, D)(i)\n",
        "x = LSTM(M, return_sequences=True)(x)\n",
        "x = GlobalMaxPooling1D()(x)\n",
        "x = Dense(1, activation='sigmoid')(x)\n",
        "\n",
        "model = Model(i, x)\n"
      ],
      "execution_count": 41,
      "outputs": []
    },
    {
      "cell_type": "code",
      "metadata": {
        "id": "j5OW9lypa9jj",
        "colab_type": "code",
        "colab": {
          "base_uri": "https://localhost:8080/",
          "height": 323
        },
        "outputId": "42e43ae3-8cee-4d2a-ccc3-b4c5b95ec792"
      },
      "source": [
        "model.summary()"
      ],
      "execution_count": 42,
      "outputs": [
        {
          "output_type": "stream",
          "text": [
            "Model: \"model_3\"\n",
            "_________________________________________________________________\n",
            "Layer (type)                 Output Shape              Param #   \n",
            "=================================================================\n",
            "input_4 (InputLayer)         [(None, 7264)]            0         \n",
            "_________________________________________________________________\n",
            "embedding_3 (Embedding)      (None, 7264, 20)          678340    \n",
            "_________________________________________________________________\n",
            "lstm_3 (LSTM)                (None, 7264, 15)          2160      \n",
            "_________________________________________________________________\n",
            "global_max_pooling1d_3 (Glob (None, 15)                0         \n",
            "_________________________________________________________________\n",
            "dense_3 (Dense)              (None, 1)                 16        \n",
            "=================================================================\n",
            "Total params: 680,516\n",
            "Trainable params: 680,516\n",
            "Non-trainable params: 0\n",
            "_________________________________________________________________\n"
          ],
          "name": "stdout"
        }
      ]
    },
    {
      "cell_type": "code",
      "metadata": {
        "id": "jDD-x7mra-cs",
        "colab_type": "code",
        "colab": {
          "base_uri": "https://localhost:8080/",
          "height": 34
        },
        "outputId": "24a51bc2-33a9-4c41-e0cf-5d53ef4a08b7"
      },
      "source": [
        "model.output_shape"
      ],
      "execution_count": 30,
      "outputs": [
        {
          "output_type": "execute_result",
          "data": {
            "text/plain": [
              "(None, 1)"
            ]
          },
          "metadata": {
            "tags": []
          },
          "execution_count": 30
        }
      ]
    },
    {
      "cell_type": "code",
      "metadata": {
        "id": "n1NG3Oh-FHmX",
        "colab_type": "code",
        "colab": {}
      },
      "source": [
        "#model.load_weights('spamfilterweights.h5')"
      ],
      "execution_count": 43,
      "outputs": []
    },
    {
      "cell_type": "code",
      "metadata": {
        "id": "9qm3MWM-bA2T",
        "colab_type": "code",
        "colab": {}
      },
      "source": [
        "model.compile(optimizer='adam',loss='binary_crossentropy',metrics=['accuracy'])"
      ],
      "execution_count": 44,
      "outputs": []
    },
    {
      "cell_type": "code",
      "metadata": {
        "id": "kzo0ieTbbKGt",
        "colab_type": "code",
        "colab": {
          "base_uri": "https://localhost:8080/",
          "height": 102
        },
        "outputId": "5b5d4def-1233-412d-e541-13e3885aabb7"
      },
      "source": [
        "print('Starting Model Training')\n",
        "#Remember that here training data name is data_train after preprocessing not x_train\n",
        "his = model.fit(data_train,y_train,epochs=2,verbose=1,shuffle=False,validation_data=(data_test,y_test))"
      ],
      "execution_count": 45,
      "outputs": [
        {
          "output_type": "stream",
          "text": [
            "Starting Model Training\n",
            "Epoch 1/2\n",
            "144/144 [==============================] - 780s 5s/step - loss: 0.0175 - accuracy: 0.9998 - val_loss: 0.0338 - val_accuracy: 0.9895\n",
            "Epoch 2/2\n",
            "144/144 [==============================] - 766s 5s/step - loss: 0.0072 - accuracy: 0.9998 - val_loss: 0.0334 - val_accuracy: 0.9921\n"
          ],
          "name": "stdout"
        }
      ]
    },
    {
      "cell_type": "code",
      "metadata": {
        "id": "yUNP98W4B6Ag",
        "colab_type": "code",
        "colab": {}
      },
      "source": [
        "#model.save_weights('spamfilterweights2.h5')"
      ],
      "execution_count": 49,
      "outputs": []
    },
    {
      "cell_type": "code",
      "metadata": {
        "id": "ekxIDigDLpVP",
        "colab_type": "code",
        "colab": {
          "base_uri": "https://localhost:8080/",
          "height": 51
        },
        "outputId": "a49cf752-0290-4c7e-f30d-e576c4c7c05f"
      },
      "source": [
        "# Validation Loss and Validation Accuracy\n",
        "model.evaluate(data_test,y_test)"
      ],
      "execution_count": 58,
      "outputs": [
        {
          "output_type": "stream",
          "text": [
            "36/36 [==============================] - 13s 354ms/step - loss: 0.0334 - accuracy: 0.9921\n"
          ],
          "name": "stdout"
        },
        {
          "output_type": "execute_result",
          "data": {
            "text/plain": [
              "[0.03341212123632431, 0.9921466112136841]"
            ]
          },
          "metadata": {
            "tags": []
          },
          "execution_count": 58
        }
      ]
    },
    {
      "cell_type": "code",
      "metadata": {
        "id": "yWb7jFOtbPRy",
        "colab_type": "code",
        "colab": {}
      },
      "source": [
        "val_loss=his.history['val_loss']\n",
        "val_accuracy=his.history['val_accuracy']\n",
        "training_loss=his.history['loss']\n",
        "training_accuracy=his.history['accuracy']\n",
        "epochs = range(2)"
      ],
      "execution_count": 51,
      "outputs": []
    },
    {
      "cell_type": "code",
      "metadata": {
        "id": "myLQmBXceXV9",
        "colab_type": "code",
        "colab": {}
      },
      "source": [
        "# Validation Loss per epoch vs Training Loss per epoch\n",
        "\n",
        "plt.plot(epochs,val_loss,label='Validation Loss')\n",
        "plt.plot(epochs,training_loss,label='Training Loss')\n",
        "plt.legend()\n",
        "plt.show()"
      ],
      "execution_count": null,
      "outputs": []
    },
    {
      "cell_type": "code",
      "metadata": {
        "id": "rfZQH7m7en-0",
        "colab_type": "code",
        "colab": {}
      },
      "source": [
        "# Validation Accuracy per epoch vs Training accuracy per epoch\n",
        "\n",
        "plt.plot(epochs,val_accuracy,label='Validation Accuracy')\n",
        "plt.plot(epochs,training_accuracy,label='Training Accuracy')\n",
        "plt.legend()\n",
        "plt.show()"
      ],
      "execution_count": null,
      "outputs": []
    },
    {
      "cell_type": "code",
      "metadata": {
        "id": "aXUdxrdFe1K9",
        "colab_type": "code",
        "colab": {}
      },
      "source": [
        ""
      ],
      "execution_count": null,
      "outputs": []
    }
  ]
}